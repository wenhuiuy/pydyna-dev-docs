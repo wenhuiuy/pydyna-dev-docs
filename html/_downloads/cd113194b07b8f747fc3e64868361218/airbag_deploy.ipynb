{
  "cells": [
    {
      "cell_type": "code",
      "execution_count": null,
      "metadata": {
        "collapsed": false
      },
      "outputs": [],
      "source": [
        "%matplotlib inline"
      ]
    },
    {
      "cell_type": "markdown",
      "metadata": {},
      "source": [
        "\n# Airbag deploy example\n\nThis example show how to create an Airbag deploy model with Pydyna-pre module\n"
      ]
    },
    {
      "cell_type": "code",
      "execution_count": null,
      "metadata": {
        "collapsed": false
      },
      "outputs": [],
      "source": [
        "import os\nimport sys\n\nsys.path.append(os.path.join(os.path.dirname(__file__),'../../'))\nfrom ansys.dyna.pre.dynasolution import *\nfrom ansys.dyna.pre.dynamech import *\nfrom ansys.dyna.pre.dynamaterial import *\n\nif __name__ == \"__main__\":\n    hostname = \"localhost\"\n    if len(sys.argv) > 1:\n        hostname = sys.argv[1]\n\n    airbag_solution = DynaSolution(hostname)\n    fns = []\n    path = os.getcwd() + os.sep + \"input\" + os.sep + \"airbag_deploy\" + os.sep\n    fns.append(path + \"airbag_deploy.k\")\n    airbag_solution.open_files(fns)\n\n    airbag_solution.set_termination(0.03)\n    airbag_solution.create_database_binary(dt=5e-4, ieverp=1)\n    \n    airbagdeploy = DynaMech()\n    airbag_solution.add(airbagdeploy)\n\n    airbag = Airbag(set=PartSet([3]),\n        heat_capacity_at_constant_volume=1.736e3,\n        heat_capacity_at_constant_pressure=2.43e3,\n        input_gas_temperature=1.2e3,\n        input_mass_flow_rate = Curve(x=[0, 0.032, 0.045, 0.08],y=[0, 26, 0.6, 0.1]),\n        shape_factor_for_exit_hole=0.7,\n        ambient_pressure=14.7,\n        ambient_density=3.821e-6)\n\n    rigidwall = RigidwallPlanar(Point(0, 0, 0),Point(0, 1, 0),coulomb_friction_coefficient=0.5)\n\n    contact = Contact(category=ContactCategory.NODES_TO_SURFACE)\n    contact.set_friction_coefficient(static=0.5,dynamic=0.5)\n    surf1=ContactSurface(PartSet([3]))\n    surf2=ContactSurface(PartSet([2]))\n    surf2.set_penalty_stiffness_scale_factor(0.06667)\n    contact.set_slave_surface(surf1)\n    contact.set_master_surface(surf2)\n\n    platemat = MatRigid(mass_density=7.84e-4,young_modulus=30e6,center_of_mass_constraint=1,translational_constraint=7,rotational_constraint=7)\n    cylindermat = MatRigid(mass_density=1.96e-4,young_modulus=30e6)\n    airbagmat = MatFabric(mass_density=1e-4,young_modulus_longitudinal_direction=2e6,young_modulus_transverse_direction=2e6,shear_modulus=1.53e6)\n    \n    plate = ShellPart(1)\n    plate.set_material(platemat)\n    plate.set_element_formulation(ShellFormulation.BELYTSCHKO_TSAY)\n    plate.set_thickness(0.5)\n\n    cylinder = ShellPart(2)\n    cylinder.set_material(cylindermat)\n    cylinder.set_element_formulation(ShellFormulation.BELYTSCHKO_TSAY)\n    cylinder.set_thickness(0.5)\n\n    airbagpart = ShellPart(3)\n    airbagpart.set_material(airbagmat)\n    airbagpart.set_element_formulation(ShellFormulation.FULLY_INTEGRATED_BELYTSCHKO_TSAY_MEMBRANE)\n    airbagpart.set_thickness(0.015)\n    airbagpart.set_integration_points(4)\n    \n    airbagdeploy.set_output_database(abstat=2.0e-4,glstat=2.0e-4,matsum=2.0e-4,rcforc=2.0e-4,rbdout=2.0e-4,rwforc=2.0e-4)\n\n    airbag_solution.save_file()"
      ]
    }
  ],
  "metadata": {
    "kernelspec": {
      "display_name": "Python 3",
      "language": "python",
      "name": "python3"
    },
    "language_info": {
      "codemirror_mode": {
        "name": "ipython",
        "version": 3
      },
      "file_extension": ".py",
      "mimetype": "text/x-python",
      "name": "python",
      "nbconvert_exporter": "python",
      "pygments_lexer": "ipython3",
      "version": "3.8.5"
    }
  },
  "nbformat": 4,
  "nbformat_minor": 0
}