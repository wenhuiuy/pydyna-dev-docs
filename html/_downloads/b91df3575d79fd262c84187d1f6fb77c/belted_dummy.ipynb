{
  "cells": [
    {
      "cell_type": "code",
      "execution_count": null,
      "metadata": {
        "collapsed": false
      },
      "outputs": [],
      "source": [
        "%matplotlib inline"
      ]
    },
    {
      "cell_type": "markdown",
      "metadata": {},
      "source": [
        "\n# Belted dummy example\n\nThis example show how to create an Belted dummy model with Pydyna-pre module\n"
      ]
    },
    {
      "cell_type": "code",
      "execution_count": null,
      "metadata": {
        "collapsed": false
      },
      "outputs": [],
      "source": [
        "import os\nimport sys\n\nsys.path.append(os.path.join(os.path.dirname(__file__),'../../'))\nfrom ansys.dyna.pre.dynasolution import *\nfrom ansys.dyna.pre.dynamech import *\nfrom ansys.dyna.pre.dynamaterial import *\nfrom belted_dummy_data import *\n\nif __name__ == \"__main__\":\n    hostname = \"localhost\"\n    if len(sys.argv) > 1:\n        hostname = sys.argv[1]\n    \n    dummy_solution = DynaSolution(hostname)\n    fns = []\n    path = os.getcwd() + os.sep + \"input\" + os.sep + \"belted_dummy\" + os.sep\n    fns.append(path + \"belted_dummy.k\")\n    dummy_solution.open_files(fns)\n    dummy_solution.set_termination(termination_time=0.12)\n    dummy_solution.create_database_binary(dt=2.5e-3)\n\n    dummy = DynaMech()\n    dummy_solution.add(dummy)    \n    \n    dummy.set_timestep(tssfac=0.8)\n    dummy.set_init_velocity(Velocity(14.8, 0, 0))\n    \n    #Define material\n    shellmatlist = []\n    for i in range(15):\n        matrigid = MatRigid(mass_density=rigidmats[i][0],young_modulus=rigidmats[i][1],poisson_ratio=0.3)\n        shellmatlist.append(matrigid)\n\n    for i in range(16, 23):\n        index = i - 16\n        matelastic = MatElastic(mass_density=elasticmats[index][0],young_modulus=elasticmats[index][1],poisson_ratio=0.3)\n        shellmatlist.append(matelastic)\n\n    discmatlist = []\n    for i in range(101, 143):\n        index = i-101\n        mat = MatSpringNonlinearElastic(curve=Curve(x=curvedata[index][0],y=curvedata[index][1]))\n        discmatlist.append(mat)\n\n    for i in range(143, 185):\n        index = i-143\n        mat = MatDamperViscous(damping_constant = dampingconst[index])\n        discmatlist.append(mat)\n\n    for i in range(185, 209):\n        index = i - 185\n        mat = MatDamperNonlinearViscous(curve=Curve(x=curvedata[lcidlist[index]][0],y=curvedata[lcidlist[index]][1]))\n        discmatlist.append(mat)\n    \n    #Set part properties\n    for i in range (1,23):\n        part = ShellPart(i)\n        part.set_material(shellmatlist[i-1])\n        part.set_thickness(shellsec[i-1][0])\n        part.set_integration_points(shellsec[i-1][1])\n        if i in range(1,16):\n            part.set_extra_nodes(NodeSet(extra_nodes[i-1]))\n\n    for i in range(101, 209):\n        index = i-101\n        part = DiscretePart(i)\n        part.set_material(discmatlist[index])\n        part.set_displacement_option(displacement_option=DRO.DESCRIBES_TORSIONAL_SPRING)\n    \n    #Contact\n    fslist = [0.62, 0.62, 0.62, 0.8, 1, 0.8, 0.88, 0.88, 0.16, 0.88, 0]\n    for i in range(11):\n        contact = Contact(category=ContactCategory.SURFACE_TO_SURFACE_CONTACT)\n        contact.set_friction_coefficient(static=fslist[i])\n        surf1=ContactSurface(SegmentSet(segments[2*i]))\n        surf2=ContactSurface(SegmentSet(segments[2*i+1]))\n        contact.set_slave_surface(surf1)\n        contact.set_master_surface(surf2)\n    \n    #Constraint\n    cons = Constraint()\n    for i in range(14):\n        cons.create_joint_spherical(nodes=jointlist[i])\n\n    #Boundary condition\n    bdy = BoundaryCondition()\n    bdy.create_imposed_motion(NodeSet(motion_nodes),Curve(x=motion_curve_x,y=motion_curve_y),motion=Motion.ACCELERATION,scalefactor=-1)\n    #Load\n    g = Gravity(dir=GravityOption.DIR_Z,load = Curve(x=[0, 0.152],y=[9.81, 9.81]))\n\n    dummy_solution.create_database_binary(dt=2.5e-3) \n    dummy_solution.save_file()"
      ]
    }
  ],
  "metadata": {
    "kernelspec": {
      "display_name": "Python 3",
      "language": "python",
      "name": "python3"
    },
    "language_info": {
      "codemirror_mode": {
        "name": "ipython",
        "version": 3
      },
      "file_extension": ".py",
      "mimetype": "text/x-python",
      "name": "python",
      "nbconvert_exporter": "python",
      "pygments_lexer": "ipython3",
      "version": "3.8.5"
    }
  },
  "nbformat": 4,
  "nbformat_minor": 0
}