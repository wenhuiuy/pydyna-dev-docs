{
  "cells": [
    {
      "cell_type": "code",
      "execution_count": null,
      "metadata": {
        "collapsed": false
      },
      "outputs": [],
      "source": [
        "%matplotlib inline"
      ]
    },
    {
      "cell_type": "markdown",
      "metadata": {},
      "source": [
        "\n# Sample interactive client for DynaSolver.\n\nCommands are read from an optional file, or interactively,and sent to DYNA via gRPC\n"
      ]
    },
    {
      "cell_type": "code",
      "execution_count": null,
      "metadata": {
        "collapsed": false
      },
      "outputs": [],
      "source": [
        "#!/usr/bin/python3\nimport os\nimport sys\nimport ansys.dyna.solver as solver\n#\nhostname = 'localhost'\nport = '5000'\n\n\ndef get_from_k8s(service):\n    \"\"\"Get the port of the DYNA server service when running kubernetes\n    locally\"\"\"\n    ip = 'localhost'   # for local k8s cluster\n    f = os.popen(\"kubectl get service %s\" % service, \"r\")\n    f.readline()\n    p = f.readline()\n    n1 = p.find(\":\")\n    n2 = p.find(\"/\")\n    p = p[n1+1:n2]\n    return (ip, p)\n\n\ndef get_from_minikube(service):\n    \"\"\"Get the IP address and port of the DYNA server service when running\n    under minikube locally\"\"\"\n    f = os.popen(\"minikube ip\", \"r\")\n    ip = f.readline().strip()\n    f.close\n    f = os.popen(\"kubectl get svc %s\" % service, \"r\")\n    f.readline()\n    p = f.readline()\n    n1 = p.find(\":\")\n    n2 = p.find(\"/\")\n    p = p[n1+1:n2]\n    return (ip, p)\n\n\nargs = sys.argv[1:]\n#\n# Check for special command line arg \"runfile <filename>\" to pull commands\n# from\n#\nif(\"runfile\" in args):\n    i = args.index(\"runfile\")\n    runfile = args[i+1]\n    args = args[:i] + args[i+2:]\nelse:\n    runfile = None\n#\ntry:\n    hostname = args[0]\nexcept IndexError:\n    hostname = 'localhost'\ntry:\n    port = args[1]\n    service = port\nexcept IndexError:\n    port = '5000'\n    service = 'server'\n#\n# Special code here for testing on my system with minikube:\n# if run with just \"minikube\" as the argument, figure out\n# the correct IP address and port to use.  If there is a second\n# argument, it is the name of the \"server\" service, which defaults to \"server\"\n#\nif(hostname == 'minikube'):\n    (hostname, port) = get_from_minikube(service)\n    print(\"Using %s:%s\" % (hostname, port))\n#\n# Similarly, if running under kubernetes locally, get the hostname\n# and port to use\n#\nelif(hostname == 'k8s'):\n    (hostname, port) = get_from_k8s(service)\n    print(\"Using %s:%s\" % (hostname, port))\n\n#\n# Open gRPC connection to the server\n#\ndyna = solver.DynaSolver(hostname, port)\n#\n# Run commands from the runfile first, if there are any\n#\nif(runfile):\n    dyna.runfile(runfile)\n#\n# If the runfile didn't end with \"quit\" then process commands from the terminal\n# until we get a \"quit\" command\n#\nwhile(1):\n    cmdin = input(\"> \").rstrip()\n    try:\n        dyna.send(cmdin)\n        if(cmdin == 'quit'):\n            sys.exit(0)\n    except solver.RunningError as err:\n        print(err)"
      ]
    }
  ],
  "metadata": {
    "kernelspec": {
      "display_name": "Python 3",
      "language": "python",
      "name": "python3"
    },
    "language_info": {
      "codemirror_mode": {
        "name": "ipython",
        "version": 3
      },
      "file_extension": ".py",
      "mimetype": "text/x-python",
      "name": "python",
      "nbconvert_exporter": "python",
      "pygments_lexer": "ipython3",
      "version": "3.8.5"
    }
  },
  "nbformat": 4,
  "nbformat_minor": 0
}