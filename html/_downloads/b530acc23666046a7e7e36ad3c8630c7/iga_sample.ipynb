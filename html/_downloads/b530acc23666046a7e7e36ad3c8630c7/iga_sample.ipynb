{
  "cells": [
    {
      "cell_type": "code",
      "execution_count": null,
      "metadata": {
        "collapsed": false
      },
      "outputs": [],
      "source": [
        "%matplotlib inline"
      ]
    },
    {
      "cell_type": "markdown",
      "metadata": {},
      "source": [
        "\n# IGA example\n\nThis example demonstrates how to create an IGA input deck.\n"
      ]
    },
    {
      "cell_type": "code",
      "execution_count": null,
      "metadata": {
        "collapsed": false
      },
      "outputs": [],
      "source": [
        "import os\nimport sys\n\nsys.path.append(os.path.join(os.path.dirname(__file__),'../../'))\nfrom ansys.dyna.pre.dynasolution import *\nfrom ansys.dyna.pre.dynaiga import *\nfrom ansys.dyna.pre.dynamech import *\nfrom ansys.dyna.pre.dynamaterial import *\nfrom iga_sample_data import *\n\nif __name__ == \"__main__\":\n    hostname = \"localhost\"\n    if len(sys.argv) > 1:\n        hostname = sys.argv[1]\n\n    iga_solution = DynaSolution(hostname)\n    fns = []\n    path = os.path.dirname(__file__) + os.sep + \"input\" + os.sep + \"iga_sample\" + os.sep\n    fns.append(path + \"maino.k\")\n    fns.append(path + \"rkrwelds.key\")\n    fns.append(path + \"27parts.key\")\n    iga_solution.open_files(fns)\n\n    iga_solution.set_termination(20)\n    iga_solution.create_database_binary(dt=0.1)\n\n    iga = DynaIGA()\n    iga_solution.add(iga)\n\n    iga.set_timestep(timestep_size_for_mass_scaled=-0.0004)\n        \n    #define material\n    plastic = MatPiecewiseLinearPlasticity(mass_density=7.830e-06,young_modulus=200,yield_stress=1.5,tangent_modulus=0.5)\n    swmatlist = []\n    for mat in materialdata:\n        spotweld = MatSpotweld(mass_density=mat[0],young_modulus=mat[1],poisson_ratio=mat[2],yield_stress=mat[3],plastic_hardening_modulus=mat[4],axial_force_resultant_at_failure=mat[5],force_resultant_nrs_at_failure=mat[6],force_resultant_nrt_at_failure=mat[7])\n        swmatlist.append(spotweld)\n    \n    for id in igaparts:\n        part = IGAPart(id)\n        part.set_material(plastic)\n        part.set_element_formulation(IGAFormulation.REISSNER_MINDLIN_FIBERS_AT_CONTROL_POINTS)\n        part.set_thickness(1.0)\n        iga.parts.add(part)\n\n    for index in range(len(spotwelds)):\n        part = SolidPart(spotwelds[index])\n        if index != 1:\n            part.set_hourglass(type = HourglassType.BELYTSCHKO_BINDEMAN)\n        part.set_element_formulation(SolidFormulation.CONSTANT_STRESS_SOLID_ELEMENT)\n        part.set_material(swmatlist[index])\n        iga.parts.add(part)\n\n    cylinder1 = RigidwallCylinder(Point(2472.37, -600.000, 1270.98),Point(2472.37, -600.000, 2668.53),100,1000)\n    iga.add(cylinder1)\n    cylinder2 = RigidwallCylinder(Point(3580.25, -600.000, 1261.37),Point(3580.25, -600.000, 3130.49),100,1000)\n    iga.add(cylinder2)\n    cylinder3 = RigidwallCylinder(Point(3090.59, -955.35, 1299.42),Point(3090.59, -955.35, 2958.43),100,1000)\n    cylinder3.set_motion(Curve(x=[0,100],y=[20,20]),dir = Direction(0,1,0))\n    iga.add(cylinder3)\n\n    #define contact\n    selfcontact = Contact(type=ContactType.AUTOMATIC)\n    selfcontact.set_friction_coefficient(static=0.2)\n    surf1=ContactSurface(PartSet(igaparts))\n    selfcontact.set_slave_surface(surf1)\n    iga.add(selfcontact)\n\n    swcontact = Contact(type=ContactType.TIED,category=ContactCategory.SHELL_EDGE_TO_SURFACE_CONTACT,offset=OffsetType.OFFSET)\n    spotweldsolid=ContactSurface(PartSet(spotwelds))\n    spotweldsurface=ContactSurface(PartSet(igaparts))\n    swcontact.set_slave_surface(spotweldsolid)\n    swcontact.set_master_surface(spotweldsurface)\n    iga.add(swcontact)\n    \n    iga_solution.save_file()"
      ]
    }
  ],
  "metadata": {
    "kernelspec": {
      "display_name": "Python 3",
      "language": "python",
      "name": "python3"
    },
    "language_info": {
      "codemirror_mode": {
        "name": "ipython",
        "version": 3
      },
      "file_extension": ".py",
      "mimetype": "text/x-python",
      "name": "python",
      "nbconvert_exporter": "python",
      "pygments_lexer": "ipython3",
      "version": "3.8.5"
    }
  },
  "nbformat": 4,
  "nbformat_minor": 0
}