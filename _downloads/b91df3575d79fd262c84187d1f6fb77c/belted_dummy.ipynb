{
  "cells": [
    {
      "cell_type": "code",
      "execution_count": null,
      "metadata": {
        "collapsed": false
      },
      "outputs": [],
      "source": [
        "%matplotlib inline"
      ]
    },
    {
      "cell_type": "markdown",
      "metadata": {},
      "source": [
        "\n# Belted dummy example\n\nThis example show how to create an Belted dummy model with Pydyna-pre module\n"
      ]
    },
    {
      "cell_type": "code",
      "execution_count": null,
      "metadata": {
        "collapsed": false
      },
      "outputs": [],
      "source": [
        "import os\nimport sys\n\nsys.path.append(os.path.join(os.path.dirname(__file__),'../../ansys/dyna'))\nfrom pre.dynabase import DynaBase\n\nif __name__ == \"__main__\":\n    hostname = \"localhost\"\n    if len(sys.argv) > 1:\n        hostname = sys.argv[1]\n    dummy = DynaBase(hostname=hostname)\n    fns = []\n    path = os.getcwd() + os.sep + \"input\" + os.sep + \"belted_dummy\" + os.sep\n    fns.append(path + \"belted_dummy.k\")\n    dummy.open_files(fns)\n\n    dummy.create_termination(endtim=0.12)\n    dummy.create_control_contact(rwpnal=0, orien=2)\n    dummy.create_timestep(tssfac=0.8)\n    dummy.create_database_binary(dt=2.5e-3)\n    vel = [14.8, 0, 0, 0, 0, 0]\n    dummy.create_init_vel(nsid=0, velocity=vel)\n\n    abs = [\n        0.00000000e00,\n        4.00000019e-03,\n        6.00000005e-03,\n        9.99999978e-03,\n        1.35000004e-02,\n        1.79999992e-02,\n        2.34999992e-02,\n        3.09999995e-02,\n        3.40000018e-02,\n        3.59999985e-02,\n        3.99999991e-02,\n        4.19999994e-02,\n        4.45000008e-02,\n        4.69999984e-02,\n        4.89999987e-02,\n        5.15000001e-02,\n        5.40000014e-02,\n        7.99999982e-02,\n        9.00000036e-02,\n        9.49999988e-02,\n        9.74999964e-02,\n        1.03000000e-01,\n        1.08999997e-01,\n        1.15000002e-01,\n        1.19499996e-01,\n        1.12499997e-01,\n        1.29999995e-01,\n        1.41000003e-01,\n        1.49000004e-01,\n        1.51999995e-01,\n    ]\n    ord = [\n        0.00000000e00,\n        4.41500015e01,\n        2.94300003e01,\n        7.84800034e01,\n        4.41500015e01,\n        1.37300003e02,\n        1.66800003e02,\n        2.35399994e02,\n        2.35399994e02,\n        2.55100006e02,\n        2.60000000e02,\n        2.60000000e02,\n        2.69799988e02,\n        2.60000000e02,\n        2.60000000e02,\n        2.55100006e02,\n        2.55100006e02,\n        1.22599998e02,\n        4.90499992e01,\n        -9.81000042e00,\n        -2.45300007e01,\n        1.47200003e01,\n        -1.47200003e01,\n        -9.81000042e00,\n        -4.90999985e00,\n        -9.81000042e00,\n        -2.45000005e00,\n        -1.96200008e01,\n        -2.45000005e00,\n        -1.47200003e01,\n    ]\n    dummy.create_definecurve(lcid=50, sfo=1, abscissa=abs, ordinate=ord)\n\n    nodeslist = [\n        1763,\n        1764,\n        1765,\n        1766,\n        1767,\n        1768,\n        1769,\n        1770,\n        1771,\n        1772,\n        1773,\n        1774,\n        1775,\n        1776,\n        1777,\n        1778,\n        1779,\n        1780,\n        1781,\n        1782,\n        1783,\n        1784,\n        1785,\n        1786,\n        1787,\n        1788,\n        1789,\n        1792,\n        1795,\n        1904,\n        1906,\n        1908,\n        1909,\n        1910,\n        1997,\n        1998,\n        1999,\n        2043,\n    ]\n    dummy.create_nodeset(option=\"LIST\", sid=1, entities=nodeslist)\n    dummy.create_boundary_prescribed_motion(\n        id=1,\n        heading=\"motion\",\n        option=\"SET\",\n        typeid=1,\n        dof=1,\n        vad=1,\n        lcid=50,\n        sf=-1,\n        vid=1,\n    )\n\n    abs = [0, 0.152]\n    ord = [9.81, 9.81]\n    dummy.create_definecurve(lcid=51, sfo=1, abscissa=abs, ordinate=ord)\n    dummy.create_load_body(option=\"Z\", lcid=51)\n\n    cid = 1\n    fslist = [0.62, 0.62, 0.62, 0.8, 1, 0.8, 0.88, 0.88, 0.16, 0.88, 0]\n    for i in range(1, 12):\n        title = \"contact\" + str(i)\n        dummy.create_contact(\n            cid=i,\n            title=title,\n            option1=\"SURFACE_TO_SURFACE\",\n            option3=False,\n            ssid=cid,\n            msid=cid + 1,\n            sstyp=0,\n            mstyp=0,\n            fs=fslist[i - 1],\n        )\n        cid += 2\n\n    nodeslist = [\n        [99, 227],\n        [228, 405],\n        [406, 865],\n        [866, 971],\n        [407, 537],\n        [538, 685],\n        [408, 603],\n        [604, 763],\n        [972, 1097],\n        [1098, 1497],\n        [1498, 1645],\n        [973, 1317],\n        [1318, 1579],\n        [1580, 1733],\n    ]\n    for i in range(14):\n        dummy.create_constrained_joint(\n            type=\"SPHERICAL\", nodes=nodeslist[i], rps=0, damp=0\n        )\n\n    nodeslist = [\n        [99, 100, 101, 102],\n        [227, 228, 229, 230, 231, 232, 233, 234],\n        [\n            405,\n            406,\n            407,\n            408,\n            409,\n            410,\n            411,\n            412,\n            413,\n            414,\n            415,\n            416,\n            417,\n            418,\n            419,\n            420,\n        ],\n        [537, 538, 539, 540, 541, 542, 543, 544],\n        [603, 604, 605, 606, 607, 608, 609, 610],\n        [685, 686, 687, 688],\n        [763, 764, 765, 766],\n        [865, 866, 867, 868, 869, 870, 871, 872],\n        [971, 972, 973, 974, 975, 976, 977, 978, 979, 980, 981, 982],\n        [1097, 1098, 1099, 1100, 1101, 1102, 1103, 1104],\n        [1317, 1318, 1319, 1320, 1321, 1322, 1323, 1324],\n        [1497, 1498, 1499, 1500, 1501, 1502, 1503, 1504],\n        [1579, 1580, 1581, 1582, 1583, 1584, 1585, 1586],\n        [1645, 1646, 1647, 1648],\n        [1733, 1734, 1735, 1736],\n    ]\n\n    for i in range(15):\n        dummy.create_nodeset(option=\"LIST\", sid=i + 2, entities=nodeslist[i])\n        dummy.create_constrained_extra_nodes(option=\"SET\", pid=i + 1, nid=i + 2)\n\n    vector = [0, 0, 0]\n    nlist = [\n        [100, 229],\n        [101, 230],\n        [102, 231],\n        [232, 409],\n        [233, 410],\n        [234, 411],\n        [412, 867],\n        [413, 868],\n        [414, 869],\n        [870, 974],\n        [871, 975],\n        [872, 976],\n        [415, 539],\n        [416, 540],\n        [417, 541],\n        [542, 686],\n        [543, 687],\n        [544, 688],\n        [418, 605],\n        [419, 606],\n        [420, 607],\n        [608, 764],\n        [609, 765],\n        [610, 766],\n        [977, 1099],\n        [978, 1100],\n        [979, 1101],\n        [1102, 1499],\n        [1103, 1500],\n        [1104, 1501],\n        [1502, 1646],\n        [1503, 1647],\n        [1504, 1648],\n        [980, 1319],\n        [981, 1320],\n        [982, 1321],\n        [1322, 1581],\n        [1323, 1582],\n        [1324, 1583],\n        [1584, 1734],\n        [1585, 1735],\n        [1586, 1736],\n    ]\n    for i in range(42):\n        id = i + 1\n        dummy.create_defineorientation(\n            vid=id, iop=2, vector=vector, node1=nlist[i][0], node2=nlist[i][1]\n        )\n\n    rolist = [\n        4064,\n        4190,\n        4760,\n        2920,\n        2920,\n        2290,\n        2290,\n        1350,\n        8170,\n        2680,\n        2680,\n        2580,\n        2580,\n        2000,\n        2000,\n    ]\n    for i in range(15):\n        id = i + 1\n        e = 4e8\n        if id == 6:\n            e = 4e6\n        dummy.create_mat_rigid(mid=id, ro=rolist[i], e=e, pr=0.3)\n\n    rolist = [4646, 4646, 4646, 4646, 2000, 2000, 4000]\n    elist = [4e8, 4e8, 4e9, 4e8, 4.1e8, 4.1e8, 2e8]\n    for i in range(16, 23):\n        index = i - 16\n        dummy.create_mat_elastic(mid=i, ro=rolist[index], e=elist[index], pr=0.3)\n\n    for i in range(1, 43):\n        id = 100 + i\n        dummy.create_mat_spring_nonlinear_elastic(mid=id, lcid=i)\n\n    dclist = [\n        2.3,\n        2.3,\n        2.3,\n        2.3,\n        2.3,\n        2.3,\n        30.5,\n        30.5,\n        30.5,\n        30.5,\n        30.5,\n        30.5,\n        4,\n        2,\n        4,\n        4,\n        2,\n        2,\n        4,\n        2,\n        4,\n        4,\n        2,\n        2,\n        6,\n        6,\n        5,\n        7.5,\n        5,\n        4,\n        1,\n        1,\n        1,\n        6,\n        6,\n        5,\n        7.5,\n        5,\n        4,\n        1,\n        1,\n        1,\n    ]\n    for i in range(143, 185):\n        index = i - 143\n        dummy.create_mat_damper_viscous(mid=i, dc=dclist[index])\n\n    lcidlist = [\n        43,\n        43,\n        43,\n        43,\n        43,\n        43,\n        44,\n        44,\n        45,\n        45,\n        44,\n        44,\n        45,\n        45,\n        46,\n        47,\n        47,\n        48,\n        49,\n        46,\n        47,\n        47,\n        48,\n        49,\n    ]\n    for i in range(185, 209):\n        index = i - 185\n        dummy.create_mat_damper_nonlinear_viscous(i, lcidlist[index])\n\n    for i in range(1, 23):\n        thk = [0.01, 0.01, 0.01, 0.01]\n        nip = 0\n        if i == 18:\n            thk = [0.1, 0.1, 0.1, 0.1]\n        if i == 20 or i == 21:\n            nip = 1\n        dummy.create_section_shell(secid=i, elform=0, thick=thk, nip=nip)\n\n    dummy.create_section_discrete(secid=101, dro=1)\n\n    for i in range(16, 23):\n        dummy.set_partproperty(pid=i, secid=i, mid=i)\n    for i in range(101, 209):\n        dummy.set_partproperty(pid=i, secid=101, mid=i)\n    for i in range(1, 16):\n        dummy.set_partproperty(pid=i, secid=i, mid=i)\n\n    dummy.save_file()"
      ]
    }
  ],
  "metadata": {
    "kernelspec": {
      "display_name": "Python 3",
      "language": "python",
      "name": "python3"
    },
    "language_info": {
      "codemirror_mode": {
        "name": "ipython",
        "version": 3
      },
      "file_extension": ".py",
      "mimetype": "text/x-python",
      "name": "python",
      "nbconvert_exporter": "python",
      "pygments_lexer": "ipython3",
      "version": "3.8.5"
    }
  },
  "nbformat": 4,
  "nbformat_minor": 0
}