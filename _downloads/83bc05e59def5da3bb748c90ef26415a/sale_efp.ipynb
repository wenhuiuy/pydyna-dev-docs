{
  "cells": [
    {
      "cell_type": "code",
      "execution_count": null,
      "metadata": {
        "collapsed": false
      },
      "outputs": [],
      "source": [
        "%matplotlib inline"
      ]
    },
    {
      "cell_type": "markdown",
      "metadata": {},
      "source": [
        "\n# Cylinder flow example\n\nThis example demonstrates how to create a SALE input deck.\n"
      ]
    },
    {
      "cell_type": "code",
      "execution_count": null,
      "metadata": {
        "collapsed": false
      },
      "outputs": [],
      "source": [
        "import os\nimport sys\nsys.path.append(os.path.join(os.path.dirname(__file__),'../../ansys/dyna'))\nfrom pre.dynasale import *\nfrom pre import dynamaterial as matDB\n\nif __name__ == \"__main__\":\n    hostname = \"localhost\"\n    if len(sys.argv) > 1:\n        hostname = sys.argv[1]\n    #Import the initial mesh data(nodes and elements)\n    fns = []\n    path = os.getcwd() + os.sep + \"input\" + os.sep+\"sale_efp\"+os.sep\n    fns.append(path + \"efpcase.k\")\n    efp = DynaSALE(hostname=hostname,filenames=fns)\n\n    #set termination\n    efp.set_termination(280)\n\n    #set post result ouput interval\n    efp.set_output_interval(5.0)\n\n    #set analysis type\n    efp.set_analysis_type(method=AdvectionMethod.VAN_LEER_WITH_HIS)\n\n    #define mesh\n    control_points_x=[ControlPoint(number=1,position=0,ratio=1),\n                      ControlPoint(number=11,position=-2.5,ratio=0.5),\n                      ControlPoint(number=21,position=0,ratio=0.5),\n                      ControlPoint(number=31,position=0,ratio=1)]\n\n    control_points_y=[ControlPoint(number=1,position=0,ratio=1),\n                      ControlPoint(number=11,position=-2.5,ratio=0.5),\n                      ControlPoint(number=21,position=0,ratio=0.5),\n                      ControlPoint(number=31,position=0,ratio=1)]\n    \n    control_points_z=[ControlPoint(number=1,position=0,ratio=0.5),\n                      ControlPoint(number=269,position=11,ratio=0.25),\n                      ControlPoint(number=309,position=21,ratio=0.25),\n                      ControlPoint(number=339,position=0,ratio=5)]\n    \n    mesh = efp.create_mesh(control_points_x,control_points_y,control_points_z)\n    \n    #fill material  \n    vacuum = matDB.Vacuum()    \n    mesh.fill(vacuum)\n    air = matDB.Air()\n    mesh.fill(air,geometry_type=\"ALL\",reference_pressure = 1.01325E-6)\n    he = matDB.HighExplosive()\n    mesh.fill(he,geometry_type=\"PART\",define_geometry_parameters = [23],inout=FillDirection.OUTSIDE_THE_GEOMETRY)\n    liner = matDB.Liner()\n    mesh.fill(liner,geometry_type=\"PART\",define_geometry_parameters = [22],inout=FillDirection.OUTSIDE_THE_GEOMETRY)\n\n    #Set the initial conditions\n    mesh.initial_detonation(detonation_point=[0,0,19.33])\n\n    #set outut datebase\n    efp.set_output_database(matsum=0.2,glstat=0.2)\n\n    #save file on server end\n    efp.save_file()"
      ]
    }
  ],
  "metadata": {
    "kernelspec": {
      "display_name": "Python 3",
      "language": "python",
      "name": "python3"
    },
    "language_info": {
      "codemirror_mode": {
        "name": "ipython",
        "version": 3
      },
      "file_extension": ".py",
      "mimetype": "text/x-python",
      "name": "python",
      "nbconvert_exporter": "python",
      "pygments_lexer": "ipython3",
      "version": "3.8.5"
    }
  },
  "nbformat": 4,
  "nbformat_minor": 0
}