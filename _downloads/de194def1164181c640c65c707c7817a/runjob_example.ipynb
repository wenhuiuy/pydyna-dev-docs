{
  "cells": [
    {
      "cell_type": "code",
      "execution_count": null,
      "metadata": {
        "collapsed": false
      },
      "outputs": [],
      "source": [
        "%matplotlib inline"
      ]
    },
    {
      "cell_type": "markdown",
      "metadata": {},
      "source": [
        "\n# DynaSolver example\n\nSample use of DynaSolver to run a small job in minikube\n"
      ]
    },
    {
      "cell_type": "code",
      "execution_count": null,
      "metadata": {
        "collapsed": false
      },
      "outputs": [],
      "source": [
        "#!/usr/bin/python3\n# import logging\nimport os\nimport time\nimport ansys.dyna.solver as solver\n\n\ndef get_from_minikube():\n    \"\"\"Get the IP address and port of the DYNA server service when running\n    under minikube locally\"\"\"\n    f = os.popen(\"minikube ip\", \"r\")\n    ip = f.readline().strip()\n    f.close\n    f = os.popen(\"kubectl get svc server\", \"r\")\n    f.readline()\n    p = f.readline()\n    n1 = p.find(\":\")\n    n2 = p.find(\"/\")\n    p = p[n1+1:n2]\n    return (ip, p)\n\n\n#\n# Example of chaining some basic commands together to make \"simple\" commands\n#\ndef start_job(nproc, fname, cmdline):\n    (hostname, port) = get_from_minikube()\n    dyna = solver.DynaSolver(hostname, port)\n    dyna.push(fname)\n    dyna.start(nproc)\n    time.sleep(1.0)  # let dyna get going?  Shouldn't the pipe just hang?\n    dyna.run(cmdline)\n    return dyna\n\n\n#"
      ]
    },
    {
      "cell_type": "markdown",
      "metadata": {},
      "source": [
        "start a 3 processor job with an input I have\n\n\n"
      ]
    },
    {
      "cell_type": "code",
      "execution_count": null,
      "metadata": {
        "collapsed": false
      },
      "outputs": [],
      "source": [
        "dyna = start_job(3, \"hemi.k\", \"i=hemi.k jobid=x\")\nprint(\"File uploaded and job started\")\n#\n# Let it run until cycle 2600\n#\ndyna.resume(cycle=2600)\n#\n# And watch it until it gets there\n#\nwhile (1):\n    time.sleep(1.0)\n    try:\n        (c, t) = dyna.time()\n    except solver.RunningError as err:\n        print(err)\n    else:\n        print(\"cycle=%d, time=%.10e\" % (c, t))\n        if(c >= 2600):\n            break\n#\n# Get some information about a node\n#\n(c, t) = dyna.time()\n(x, v) = dyna.node(569)\nprint(\"At cycle=%d and time=%f\" % (c, t))\nprint(\"Node 569 has Y position %f and Y velocity %f\" % (x[1], v[1]))\n#\n# wait a moment, then get some switch 2 output\n#\ndyna.resume()\ntime.sleep(1.0)\ns = dyna.switch(\"sw2.\")\nprint(\"Output from switch sw2.\")\nprint(s)\n#\n# Now just watch the job until it is done\n#\ngetnode = 1\nwhile(1):\n    time.sleep(1.0)\n    try:\n        (c, t) = dyna.time()\n    except solver.RunningError as err:\n        print(err)\n        break\n    else:\n        print(\"cycle=%d, time=%.10e\" % (c, t))\n        if(getnode and (c > 10000)):\n            (x, v) = dyna.node(569)\n            print(\"Node 569 has Y position %f and Y velocity %f\" %\n                  (x[1], v[1]))\n            getnode = 0\n#\nprint(\"Job Complete\")"
      ]
    }
  ],
  "metadata": {
    "kernelspec": {
      "display_name": "Python 3",
      "language": "python",
      "name": "python3"
    },
    "language_info": {
      "codemirror_mode": {
        "name": "ipython",
        "version": 3
      },
      "file_extension": ".py",
      "mimetype": "text/x-python",
      "name": "python",
      "nbconvert_exporter": "python",
      "pygments_lexer": "ipython3",
      "version": "3.8.5"
    }
  },
  "nbformat": 4,
  "nbformat_minor": 0
}