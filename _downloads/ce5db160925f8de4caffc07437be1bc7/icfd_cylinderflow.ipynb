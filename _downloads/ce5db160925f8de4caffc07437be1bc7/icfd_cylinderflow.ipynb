{
  "cells": [
    {
      "cell_type": "code",
      "execution_count": null,
      "metadata": {
        "collapsed": false
      },
      "outputs": [],
      "source": [
        "%matplotlib inline"
      ]
    },
    {
      "cell_type": "markdown",
      "metadata": {},
      "source": [
        "\n# Cylinder flow example\n\nThis example demonstrates how to create a simple ICFD cylinder flow input deck.\n"
      ]
    },
    {
      "cell_type": "code",
      "execution_count": null,
      "metadata": {
        "collapsed": false
      },
      "outputs": [],
      "source": [
        "import os\nimport sys\n\nsys.path.append(os.path.join(os.path.dirname(__file__),'../../'))\nfrom ansys.dyna.pre.dynasolution import *\nfrom ansys.dyna.pre.dynaicfd import *\n\nif __name__ == \"__main__\":\n    hostname = \"localhost\"\n    if len(sys.argv) > 1:\n        hostname = sys.argv[1]\n\n    icfd_solution = DynaSolution(hostname)\n    #Import the initial mesh data(nodes and elements)\n    fns = []\n    path = os.path.dirname(__file__) + os.sep + \"input\" + os.sep\n    fns.append(path + os.sep + \"icfd_cylinderflow\" + os.sep + \"mesh.k\")\n    icfd_solution.open_files(fns)\n\n    #Set total time of simulation\n    icfd_solution.set_termination(termination_time=100)    \n    icfd_solution.create_database_binary(dt=1)\n\n    icfd = DynaICFD()\n    icfd_solution.add(icfd)\n\n    #define model\n    mat = MatICFD(flow_density=1.0,dynamic_viscosity=0.005)\n\n    part_inflow = ICFDPart(1)\n    part_inflow.set_material(mat)\n    part_inflow.set_prescribed_velocity(dof=ICFDDOF.X,motion=Curve(x=[0, 10000],y=[1, 1]))\n    part_inflow.set_prescribed_velocity(dof=ICFDDOF.Y,motion=Curve(x=[0, 10000],y=[0, 0]))\n    icfd.parts.add(part_inflow)\n\n    part_outflow = ICFDPart(2)\n    part_outflow.set_material(mat)\n    part_outflow.set_prescribed_pressure(pressure = Curve(x=[0, 10000],y=[0, 0]))\n    icfd.parts.add(part_outflow)\n\n    part_symmetric = ICFDPart(3)\n    part_symmetric.set_material(mat)\n    part_symmetric.set_free_slip()\n    icfd.parts.add(part_symmetric)\n\n    part_wall= ICFDPart(4)\n    part_wall.set_material(mat)\n    part_wall.set_non_slip()\n    part_wall.compute_drag_force()\n    part_wall.set_boundary_layer(number=3)\n    icfd.parts.add(part_wall)\n\n    partvol = ICFDVolumePart(surfaces=[1, 2, 3, 4])\n    partvol.set_material(mat)  \n    icfd.parts.add(partvol)\n    # define the volume space that will be meshed,The boundaries \n    #of the volume are the surfaces \"spids\"\n    meshvol = MeshedVolume(surfaces = [1, 2, 3, 4])\n    icfd.add(meshvol)\n\n    icfd_solution.save_file()"
      ]
    }
  ],
  "metadata": {
    "kernelspec": {
      "display_name": "Python 3",
      "language": "python",
      "name": "python3"
    },
    "language_info": {
      "codemirror_mode": {
        "name": "ipython",
        "version": 3
      },
      "file_extension": ".py",
      "mimetype": "text/x-python",
      "name": "python",
      "nbconvert_exporter": "python",
      "pygments_lexer": "ipython3",
      "version": "3.8.5"
    }
  },
  "nbformat": 4,
  "nbformat_minor": 0
}