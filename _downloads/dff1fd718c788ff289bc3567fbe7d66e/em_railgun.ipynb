{
  "cells": [
    {
      "cell_type": "code",
      "execution_count": null,
      "metadata": {
        "collapsed": false
      },
      "outputs": [],
      "source": [
        "%matplotlib inline"
      ]
    },
    {
      "cell_type": "markdown",
      "metadata": {},
      "source": [
        "\n# Railgun example\n\nThis example demonstrates how to create an EM Railgun input deck.\n"
      ]
    },
    {
      "cell_type": "code",
      "execution_count": null,
      "metadata": {
        "collapsed": false
      },
      "outputs": [],
      "source": [
        "import os\nimport sys\n\nsys.path.append(os.path.join(os.path.dirname(__file__),'../../'))\nfrom ansys.dyna.pre.dynasolution import *\nfrom ansys.dyna.pre.dynaem import *\nfrom ansys.dyna.pre.dynamaterial import *\nfrom em_railgun_data import *\n\nif __name__ == \"__main__\":\n    hostname = \"localhost\"\n    if len(sys.argv) > 1:\n        hostname = sys.argv[1]\n\n    em_solution = DynaSolution(hostname)\n    fns = []\n    path = os.getcwd() + os.sep + \"input\" + os.sep + \"em_railgun\" + os.sep\n    fns.append(path + \"em_railgun.k\")\n    em_solution.open_files(fns)\n    em_solution.set_termination(termination_time=3e-4)\n    em_solution.create_database_binary(dt=5e-6)\n\n    railgun = DynaEM()    \n    em_solution.add(railgun)\n\n    analysis = EMAnalysis()\n    analysis.set_timestep(timestep=5e-6)\n    analysis.set_solver_bem(solver=BEMSOLVER.PCG)\n    analysis.set_solver_fem(solver=FEMSOLVER.DIRECT_SOLVER,relative_tol=1e-3)\n   \n    circuit = Circuit(circuit_type=CircuitType.IMPOSED_CURRENT_VS_TIME,loadcurve=Curve(x=[0,8e-5,2e-4,4e-4,6e-4,1e-3],y=[0,350,450,310,230,125],sfo=2e6))\n    circuit.set_current(current=SegmentSet(cur),current_inlet=SegmentSet(inlet),current_outlet=SegmentSet(outlet))\n\n    matelastic = MatElastic(mass_density=2.64e-3,young_modulus=9.7e+10,poisson_ratio=0.31)\n    matelastic.set_electromagnetic_property(material_type=EMMATTYPE.CONDUCTOR,initial_conductivity=25)\n    matrigid = MatRigid(mass_density=2.64e-3,young_modulus=9.7e+10,poisson_ratio=0.31,center_of_mass_constraint=1,translational_constraint=7,rotational_constraint=7)\n    matrigid.set_electromagnetic_property(material_type=EMMATTYPE.CONDUCTOR,initial_conductivity=25)\n    \n    coil = SolidPart(1)\n    coil.set_material(matelastic)\n    coil.set_element_formulation(SolidFormulation.CONSTANT_STRESS_SOLID_ELEMENT)\n\n    workpiece1 = SolidPart(2)\n    workpiece1.set_material(matrigid)\n    workpiece1.set_element_formulation(SolidFormulation.CONSTANT_STRESS_SOLID_ELEMENT)\n\n    workpiece2 = SolidPart(3)\n    workpiece2.set_material(matrigid)\n    workpiece2.set_element_formulation(SolidFormulation.CONSTANT_STRESS_SOLID_ELEMENT)\n    \n    bdy = BoundaryCondition()\n    bdy.create_spc(NodeSet(spc1),tx=False,ty=False,rz=False,death=0)\n    bdy.create_spc(NodeSet(spc2),tx=False,ty=False,rz=False,death=0)\n\n    contact = EMContact()\n\n    railgun.set_rogowsky_coil_to_output_current(SegmentSet(cur))\n    \n    em_solution.save_file()"
      ]
    }
  ],
  "metadata": {
    "kernelspec": {
      "display_name": "Python 3",
      "language": "python",
      "name": "python3"
    },
    "language_info": {
      "codemirror_mode": {
        "name": "ipython",
        "version": 3
      },
      "file_extension": ".py",
      "mimetype": "text/x-python",
      "name": "python",
      "nbconvert_exporter": "python",
      "pygments_lexer": "ipython3",
      "version": "3.8.5"
    }
  },
  "nbformat": 4,
  "nbformat_minor": 0
}