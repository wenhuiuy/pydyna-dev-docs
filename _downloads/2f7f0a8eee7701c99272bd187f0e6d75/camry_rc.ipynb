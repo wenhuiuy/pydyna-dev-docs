{
  "cells": [
    {
      "cell_type": "code",
      "execution_count": null,
      "metadata": {
        "collapsed": false
      },
      "outputs": [],
      "source": [
        "%matplotlib inline"
      ]
    },
    {
      "cell_type": "markdown",
      "metadata": {},
      "source": [
        "\n# Crash example\n\nThis example demonstrates how to create a simple crash input deck.\n"
      ]
    },
    {
      "cell_type": "code",
      "execution_count": null,
      "metadata": {
        "collapsed": false
      },
      "outputs": [],
      "source": [
        "import os\nfrom re import X\nimport sys\n\nsys.path.append(os.path.join(os.path.dirname(__file__),'../../ansys/dyna'))\nfrom pre.dynabase import *\nfrom pre.dynamaterial import *\nfrom camry_rc_data import *\n\nif __name__ == \"__main__\":\n    hostname = \"localhost\"\n    if len(sys.argv) > 1:\n        hostname = sys.argv[1]\n    camry = DynaBase(hostname=hostname)\n    #Import the initial mesh data(nodes and elements)\n    fns = []\n    path = os.getcwd() + os.sep + \"input\" + os.sep+ \"implicit\" + os.sep+ \"camry_rc\" + os.sep\n    fns.append(path + \"Camry_RC_main.k\")\n    fns.append(path + \"501_RIG_BAR_roof_crush_platen5.key\")\n    fns.append(path + \"Camry_V1_NoSusAndPowerTrain_impl7.k\")\n    fns.append(path + \"Camry_V1_NoSusAndPowerTrain_impl7_nodes.k\")\n    fns.append(path + \"roof_welds.k\")\n    fns.append(path + \"weld7.k\")\n    fns.append(path + \"xtra_sw.k\")\n    camry.open_files(fns)\n\n    #global setting\n    camry.set_termination(10)\n    \n    analysis = ImplicitAnalysis(initial_timestep_size=0.1)\n    analysis.set_timestep(control_flag=TimestepCtrol.AUTOMATICALLY_ADJUST_TIMESTEP_SIZE,Optimum_equilibrium_iteration_count=511)\n    analysis.set_dynamic(gamma=0.6,beta=0.38)\n    analysis.set_eigenvalue()\n    analysis.set_solution(stiffness_reformation_limit=55,absolute_convergence_tolerance=-100)\n    \n    #create material\n    matnull = MatNull(mass_density=6e-11)\n    matrigid = MatRigid(mass_density=7.890e-09,young_modulus=2.100e+05,poisson_ratio=0.3)\n    matplaten = MatRigid(mass_density=7.80e-09,young_modulus=2.00e+05,poisson_ratio=0.3,center_of_mass_constraint=1,rotational_constraint=7)\n    spotweldharden2100 = MatSpotweld(mass_density=7.850e-09,young_modulus=2.100e+05,poisson_ratio=0.3,yield_stress=510,plastic_hardening_modulus=2100)\n    spotweldharden2200 = MatSpotweld(mass_density=7.850e-09,young_modulus=2.100e+05,poisson_ratio=0.3,yield_stress=510,plastic_hardening_modulus=2200)\n    windowshield = MatModifiedPiecewiseLinearPlasticity(mass_density=2.355e-09,young_modulus=7.000e+04,poisson_ratio=0.22,yield_stress=30,tangent_modulus=1400,plastic_strain_to_failure=0.015,integration_points_number=1)\n    windowsrear = MatModifiedPiecewiseLinearPlasticity(mass_density=2.425e-09,young_modulus=7.000e+04,poisson_ratio=0.22,yield_stress=30,tangent_modulus=1400,plastic_strain_to_failure=0.015,integration_points_number=1)\n    plastic300 = MatPiecewiseLinearPlasticity(mass_density=7.890e-09,young_modulus=210000,yield_stress=300,tangent_modulus=5000)\n    plastic250 = MatPiecewiseLinearPlasticity(mass_density=7.890e-09,young_modulus=210000,yield_stress=250,tangent_modulus=5000)\n    plastic360 = MatPiecewiseLinearPlasticity(mass_density=7.890e-09,young_modulus=210000,yield_stress=360,tangent_modulus=5000)\n    plastic180 = MatPiecewiseLinearPlasticity(mass_density=7.850e-09,young_modulus=210000,yield_stress=180,tangent_modulus=5000)\n    plastic450 = MatPiecewiseLinearPlasticity(mass_density=7.850e-09,young_modulus=210000,yield_stress=450,tangent_modulus=5000)\n    plastic1300 = MatPiecewiseLinearPlasticity(mass_density=7.850e-09,young_modulus=210000,yield_stress=1300,tangent_modulus=5000)\n    plastic400 = MatPiecewiseLinearPlasticity(mass_density=7.890e-09,young_modulus=210000,yield_stress=400,tangent_modulus=5000)\n    plastic500 = MatPiecewiseLinearPlasticity(mass_density=7.890e-09,young_modulus=210000,yield_stress=500,tangent_modulus=5000)\n    plastic675 = MatPiecewiseLinearPlasticity(mass_density=7.850e-09,young_modulus=210000,yield_stress=675,tangent_modulus=5000)\n    plastic310 = MatPiecewiseLinearPlasticity(mass_density=2.255e-09,young_modulus=70000,yield_stress=310,tangent_modulus=5000)\n    plastic220 = MatPiecewiseLinearPlasticity(mass_density=7.890e-09,young_modulus=210000,yield_stress=220,tangent_modulus=5000)\n    plastic220_410 = MatPiecewiseLinearPlasticity(mass_density=7.890e-09,young_modulus=210000,yield_stress=220,tangent_modulus=410)\n    \n    #set model\n    for bpart in beamparts:\n        part = BeamPart(bpart[0])\n        if part.id in [50000002]:\n            part.set_material(spotweldharden2200)\n        else:\n            part.set_material(spotweldharden2100)\n        part.set_element_formulation(bpart[1])\n        part.set_diameter(bpart[2])\n\n    for spart in shellparts:\n        part = ShellPart(spart[0])\n        if part.id in [1463,1464]:\n            part.set_material(matnull)\n        elif part.id in [417,419,530,532,585,586,587,588]:\n            part.set_material(matrigid)\n        elif part.id in [50000001]:\n            part.set_material(matplaten)\n        elif part.id in [290]:\n            part.set_material(windowshield)\n        elif part.id in [291]:\n            part.set_material(windowsrear)\n        elif part.id in partswithmat300:\n            part.set_material(plastic300)\n        elif part.id in partswithmat250:\n            part.set_material(plastic250)\n        elif part.id in partswithmat360:\n            part.set_material(plastic360)\n        elif part.id in partswithmat180:\n            part.set_material(plastic180)\n        elif part.id in partswithmat450:\n            part.set_material(plastic450)\n        elif part.id in partswithmat400:\n            part.set_material(plastic400)\n        elif part.id in partswithmat500:\n            part.set_material(plastic500)\n        elif part.id in [57]:\n            part.set_material(plastic1300)\n        elif part.id in [286]:\n            part.set_material(plastic675)\n        elif part.id in [5000000]:\n            part.set_material(plastic310)\n        elif part.id in [5000006]:\n            part.set_material(plastic220)\n        elif part.id in [5000007]:\n            part.set_material(plastic220_410)\n        else:\n            pass\n        part.set_element_formulation(spart[1])\n        part.set_thickness(spart[2])\n    \n    #define constrained\n    cons = Constraint()\n    for sw in spotweld:\n        cons.create_spotweld(nodeid1=sw[0],nodeid2=sw[1])\n\n    for cnrb in cnrbs:\n        cons.create_cnrb(nodeset=NodeSet(cnrb))\n\n    #define contact\n    selfcontact = Contact(type=ContactType.AUTOMATIC)\n    selfcontact.set_mortar()\n    selfcontact.set_friction_coefficient(static=0.2)\n    surf1=ContactSurface(PartSet(vehicle))\n    selfcontact.set_slave_surface(surf1)\n\n    platebiw = Contact(type=ContactType.AUTOMATIC,category=ContactCategory.SURFACE_TO_SURFACE_CONTACT)\n    platebiw.set_mortar()\n    platebiw.set_friction_coefficient(static=0.2,dynamic=0.2)\n    surf1=ContactSurface(PartSet(biw))\n    surf2=ContactSurface(PartSet(platen))\n    platebiw.set_slave_surface(surf1)\n    platebiw.set_master_surface(surf2)\n\n    swcontact = Contact(type=ContactType.TIED,category=ContactCategory.SHELL_EDGE_TO_SURFACE_CONTACT,offset=OffsetType.CONSTRAINED_OFFSET)\n    spotweldbeam=ContactSurface(PartSet(spotweldbeams))\n    spotweldbeam.set_contact_thickness(thickness=-0.9)\n    spotweldsurface=ContactSurface(PartSet(spotweldsurfaces))\n    spotweldsurface.set_contact_thickness(thickness=-0.9)\n    swcontact.set_slave_surface(spotweldbeam)\n    swcontact.set_master_surface(spotweldsurface)\n\n    #define boundary\n    bdy = BoundaryCondition()\n    bdy.create_spc(NodeSet(spc))\n    \n    crv = Curve(x=[0,1,2,3,4,5,6,7,8,9,9.77,100],\n                y=[0,13,26,39,52,65,78,91,104,117,127,127])\n    platen=PartSet([50000001])\n    bdy.create_imposed_motion(platen,crv,dof=DOF.X_TRANSLATIONAL,scalefactor=-0.0802216)\n    bdy.create_imposed_motion(platen,crv,dof=DOF.Y_TRANSLATIONAL,scalefactor=-0.0802216)\n    bdy.create_imposed_motion(platen,crv,dof=DOF.Z_TRANSLATIONAL,scalefactor=-0.0802216)\n\n    camry.create_database_binary(dt=0.001)\n    camry.set_output_database(elout=0.0001,glstat=0.0001,matsum=0.0001,nodout=0.0001,rbdout=0.0001,rcforc=0.0001,secforc=0.0001)\n\n    camry.save_file()"
      ]
    }
  ],
  "metadata": {
    "kernelspec": {
      "display_name": "Python 3",
      "language": "python",
      "name": "python3"
    },
    "language_info": {
      "codemirror_mode": {
        "name": "ipython",
        "version": 3
      },
      "file_extension": ".py",
      "mimetype": "text/x-python",
      "name": "python",
      "nbconvert_exporter": "python",
      "pygments_lexer": "ipython3",
      "version": "3.8.5"
    }
  },
  "nbformat": 4,
  "nbformat_minor": 0
}